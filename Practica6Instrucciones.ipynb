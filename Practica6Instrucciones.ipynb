{
  "cells": [
    {
      "cell_type": "markdown",
      "metadata": {
        "id": "gjCK-mNI31hb"
      },
      "source": [
        "# Práctica 6: usando embeddings con datos estructurados\n",
        "\n",
        "En este notebook se muestra cómo crear un modelo de clasificación para un dataset estructurado que contiene características categóricas usando una red neuronal. Para ello usaremos la librería [FastAI](https://www.fast.ai/).\n",
        "\n",
        "Aunque para esta práctica no es necesario el uso de GPU, las pruebas serán más rápidas si tienes esta opción activada."
      ]
    },
    {
      "cell_type": "markdown",
      "metadata": {
        "id": "rqrUno5P31hh"
      },
      "source": [
        "## Librerías\n",
        "\n",
        "Comenzamos actualizando la librería FastAI. Al finalizar la instalación deberás reiniciar el kernel (menú Entorno de ejecución -> Reiniciar Entorno de ejecución)."
      ]
    },
    {
      "cell_type": "code",
      "execution_count": 1,
      "metadata": {
        "id": "V43yXELfhMPH",
        "outputId": "b60a3d44-1f2d-4202-d16b-c1d5cd22c70a",
        "colab": {
          "base_uri": "https://localhost:8080/"
        }
      },
      "outputs": [
        {
          "output_type": "stream",
          "name": "stdout",
          "text": [
            "\u001b[2K     \u001b[90m━━━━━━━━━━━━━━━━━━━━━━━━━━━━━━━━━━━━━━━━\u001b[0m \u001b[32m23.7/23.7 MB\u001b[0m \u001b[31m35.3 MB/s\u001b[0m eta \u001b[36m0:00:00\u001b[0m\n",
            "\u001b[2K     \u001b[90m━━━━━━━━━━━━━━━━━━━━━━━━━━━━━━━━━━━━━━━━\u001b[0m \u001b[32m823.6/823.6 kB\u001b[0m \u001b[31m22.4 MB/s\u001b[0m eta \u001b[36m0:00:00\u001b[0m\n",
            "\u001b[2K     \u001b[90m━━━━━━━━━━━━━━━━━━━━━━━━━━━━━━━━━━━━━━━━\u001b[0m \u001b[32m14.1/14.1 MB\u001b[0m \u001b[31m36.8 MB/s\u001b[0m eta \u001b[36m0:00:00\u001b[0m\n",
            "\u001b[2K     \u001b[90m━━━━━━━━━━━━━━━━━━━━━━━━━━━━━━━━━━━━━━━━\u001b[0m \u001b[32m731.7/731.7 MB\u001b[0m \u001b[31m2.1 MB/s\u001b[0m eta \u001b[36m0:00:00\u001b[0m\n",
            "\u001b[2K     \u001b[90m━━━━━━━━━━━━━━━━━━━━━━━━━━━━━━━━━━━━━━━━\u001b[0m \u001b[32m410.6/410.6 MB\u001b[0m \u001b[31m3.8 MB/s\u001b[0m eta \u001b[36m0:00:00\u001b[0m\n",
            "\u001b[2K     \u001b[90m━━━━━━━━━━━━━━━━━━━━━━━━━━━━━━━━━━━━━━━━\u001b[0m \u001b[32m121.6/121.6 MB\u001b[0m \u001b[31m8.3 MB/s\u001b[0m eta \u001b[36m0:00:00\u001b[0m\n",
            "\u001b[2K     \u001b[90m━━━━━━━━━━━━━━━━━━━━━━━━━━━━━━━━━━━━━━━━\u001b[0m \u001b[32m56.5/56.5 MB\u001b[0m \u001b[31m10.3 MB/s\u001b[0m eta \u001b[36m0:00:00\u001b[0m\n",
            "\u001b[2K     \u001b[90m━━━━━━━━━━━━━━━━━━━━━━━━━━━━━━━━━━━━━━━━\u001b[0m \u001b[32m124.2/124.2 MB\u001b[0m \u001b[31m8.3 MB/s\u001b[0m eta \u001b[36m0:00:00\u001b[0m\n",
            "\u001b[2K     \u001b[90m━━━━━━━━━━━━━━━━━━━━━━━━━━━━━━━━━━━━━━━━\u001b[0m \u001b[32m196.0/196.0 MB\u001b[0m \u001b[31m4.9 MB/s\u001b[0m eta \u001b[36m0:00:00\u001b[0m\n",
            "\u001b[2K     \u001b[90m━━━━━━━━━━━━━━━━━━━━━━━━━━━━━━━━━━━━━━━━\u001b[0m \u001b[32m166.0/166.0 MB\u001b[0m \u001b[31m7.4 MB/s\u001b[0m eta \u001b[36m0:00:00\u001b[0m\n",
            "\u001b[2K     \u001b[90m━━━━━━━━━━━━━━━━━━━━━━━━━━━━━━━━━━━━━━━━\u001b[0m \u001b[32m99.1/99.1 kB\u001b[0m \u001b[31m13.4 MB/s\u001b[0m eta \u001b[36m0:00:00\u001b[0m\n",
            "\u001b[2K     \u001b[90m━━━━━━━━━━━━━━━━━━━━━━━━━━━━━━━━━━━━━━━━\u001b[0m \u001b[32m21.1/21.1 MB\u001b[0m \u001b[31m64.0 MB/s\u001b[0m eta \u001b[36m0:00:00\u001b[0m\n",
            "\u001b[?25h"
          ]
        }
      ],
      "source": [
        "!pip install fastai -Uq"
      ]
    },
    {
      "cell_type": "markdown",
      "metadata": {
        "id": "_HFLwugx31hk"
      },
      "source": [
        "Cargamos a continuación las librerías que necesitaremos en esta práctica que son la parte de datos estructurados de la librería fastAI y la librería pandas."
      ]
    },
    {
      "cell_type": "code",
      "execution_count": 1,
      "metadata": {
        "id": "9dbyahqc31hl"
      },
      "outputs": [],
      "source": [
        "from fastai.tabular.all import *\n",
        "import pandas as pd\n",
        "import random"
      ]
    },
    {
      "cell_type": "markdown",
      "metadata": {
        "id": "IOuB9EuYzAXH"
      },
      "source": [
        "## Dataset\n",
        "\n",
        "Para este ejemplo vamos a usar el [Adult Data Set](https://archive.ics.uci.edu/ml/datasets/Adult). Con este dataset se pretende ser capaz de predecir si una persona cobra más de 50000 dolares al año a partir de las siguientes características:"
      ]
    },
    {
      "cell_type": "code",
      "execution_count": 2,
      "metadata": {
        "id": "xerdc7RCzAXH"
      },
      "outputs": [],
      "source": [
        "columns = ['age','workclass','fnlwgt','education',\n",
        "          'education-num','marital-status',\n",
        "          'occupation', 'relationship', 'race',\n",
        "          'sex','capital-gain','capital-loss',\n",
        "          'hours-per-week','native-country','income']"
      ]
    },
    {
      "cell_type": "markdown",
      "metadata": {
        "id": "YeYWE_QZzAXI"
      },
      "source": [
        "Vamos a descargar el dataset usando los siguientes comandos. Debemos descargar tanto el conjunto de entrenamiento como el de test."
      ]
    },
    {
      "cell_type": "code",
      "execution_count": 3,
      "metadata": {
        "id": "2Flfd-xkzAXI",
        "outputId": "c4afbf14-5fdc-4402-830d-798ed84a82de",
        "colab": {
          "base_uri": "https://localhost:8080/"
        }
      },
      "outputs": [
        {
          "output_type": "stream",
          "name": "stdout",
          "text": [
            "--2024-04-09 10:55:08--  https://archive.ics.uci.edu/ml/machine-learning-databases/adult/adult.data\n",
            "Resolving archive.ics.uci.edu (archive.ics.uci.edu)... 128.195.10.252\n",
            "Connecting to archive.ics.uci.edu (archive.ics.uci.edu)|128.195.10.252|:443... connected.\n",
            "HTTP request sent, awaiting response... 200 OK\n",
            "Length: unspecified\n",
            "Saving to: ‘train.csv’\n",
            "\n",
            "train.csv               [          <=>       ]   3.79M  1.61MB/s    in 2.4s    \n",
            "\n",
            "2024-04-09 10:55:11 (1.61 MB/s) - ‘train.csv’ saved [3974305]\n",
            "\n",
            "--2024-04-09 10:55:12--  https://archive.ics.uci.edu/ml/machine-learning-databases/adult/adult.test\n",
            "Resolving archive.ics.uci.edu (archive.ics.uci.edu)... 128.195.10.252\n",
            "Connecting to archive.ics.uci.edu (archive.ics.uci.edu)|128.195.10.252|:443... connected.\n",
            "HTTP request sent, awaiting response... 200 OK\n",
            "Length: unspecified\n",
            "Saving to: ‘test.csv’\n",
            "\n",
            "test.csv                [      <=>           ]   1.91M  1.57MB/s    in 1.2s    \n",
            "\n",
            "2024-04-09 10:55:13 (1.57 MB/s) - ‘test.csv’ saved [2003153]\n",
            "\n"
          ]
        }
      ],
      "source": [
        "!wget https://archive.ics.uci.edu/ml/machine-learning-databases/adult/adult.data -O train.csv\n",
        "!wget https://archive.ics.uci.edu/ml/machine-learning-databases/adult/adult.test -O test.csv"
      ]
    },
    {
      "cell_type": "markdown",
      "metadata": {
        "id": "5WYiy0qNzAXJ"
      },
      "source": [
        "Si inspeccionais el fichero de test veremos que la primera línea no proporciona información útil, y además los valores de la columna del salario incluyen un punto. Los siguientes comandos se encargan de eliminar la primera línea del fichero y de eliminar los puntos."
      ]
    },
    {
      "cell_type": "code",
      "execution_count": 4,
      "metadata": {
        "id": "guCp-dVSzAXJ"
      },
      "outputs": [],
      "source": [
        "# Eliminamos la primera línea del fichero de test\n",
        "!sed '1d' test.csv > tmpfile; mv tmpfile test.csv"
      ]
    },
    {
      "cell_type": "code",
      "execution_count": 5,
      "metadata": {
        "id": "iAlxjWOXzAXJ"
      },
      "outputs": [],
      "source": [
        "# Eliminamos los puntos del fichero de test\n",
        "!sed 's/\\.//' test.csv > tmpfile; mv tmpfile test.csv"
      ]
    },
    {
      "cell_type": "markdown",
      "metadata": {
        "id": "jPvyMqlYzAXK"
      },
      "source": [
        "## Carga de datos\n",
        "\n",
        "Al igual que se trabajaba en la asignatura de aprendizaje automático pasamos a cargar ambos datasets."
      ]
    },
    {
      "cell_type": "code",
      "execution_count": 6,
      "metadata": {
        "id": "SyOCMLnCzAXK"
      },
      "outputs": [],
      "source": [
        "df_train = pd.read_csv('train.csv',header=None,names=columns)\n",
        "df_test = pd.read_csv('test.csv',header=None,names=columns)"
      ]
    },
    {
      "cell_type": "markdown",
      "metadata": {
        "id": "3V1np19bzAXK"
      },
      "source": [
        "Para crear un modelo con datos estructurados en FastAI debemos:\n",
        "- Indicar la columna que queremos predecir, es decir la variable dependiente.\n",
        "- Las transformaciones que queremos aplicar a nuestro dataset.\n",
        "- Las características que son categóricas y continuas.\n",
        "\n",
        "Nuestra variable dependiente va a ser el salario:"
      ]
    },
    {
      "cell_type": "code",
      "execution_count": 7,
      "metadata": {
        "id": "giHGL_JrzAXL"
      },
      "outputs": [],
      "source": [
        "dep_var = 'income'"
      ]
    },
    {
      "cell_type": "markdown",
      "metadata": {
        "id": "nzDG1xhzzAXL"
      },
      "source": [
        "Las transformaciones que vamos a aplicar nuestro dataset son:\n",
        "- Categorizar las variables categoricas de manera que se use un embedding.\n",
        "- Reemplazar aquellos valores que faltan en el dataset por la media del resto de valores de ese descriptor.\n",
        "- Normalizar los datos.\n",
        "\n",
        "Esto se consigue definiendo la siguiente lista de transformaciones."
      ]
    },
    {
      "cell_type": "code",
      "execution_count": 8,
      "metadata": {
        "id": "QwY7WYmrzAXL"
      },
      "outputs": [],
      "source": [
        "procs = [Categorify, FillMissing,Normalize]"
      ]
    },
    {
      "cell_type": "markdown",
      "metadata": {
        "id": "r8aaPf7LzAXL"
      },
      "source": [
        "Por último debemos indicar qué variables son continuas (números) o categóricas. De esto se encarga automáticamente la función `cont_cat_split`."
      ]
    },
    {
      "cell_type": "code",
      "execution_count": 9,
      "metadata": {
        "id": "w-hyi3o2zAXM"
      },
      "outputs": [],
      "source": [
        "cont,cat = cont_cat_split(df_train, 1, dep_var=dep_var)"
      ]
    },
    {
      "cell_type": "markdown",
      "metadata": {
        "id": "7yvMjWCPzAXM"
      },
      "source": [
        "Podemos ver a hora que realmente las variables continuas y categóricas han sido separadas de forma correcta."
      ]
    },
    {
      "cell_type": "code",
      "execution_count": 10,
      "metadata": {
        "id": "F8fOfDEBzAXM",
        "outputId": "15c0ef43-c417-4034-af50-1a52ccd820b4",
        "colab": {
          "base_uri": "https://localhost:8080/"
        }
      },
      "outputs": [
        {
          "output_type": "execute_result",
          "data": {
            "text/plain": [
              "['workclass',\n",
              " 'education',\n",
              " 'marital-status',\n",
              " 'occupation',\n",
              " 'relationship',\n",
              " 'race',\n",
              " 'sex',\n",
              " 'native-country']"
            ]
          },
          "metadata": {},
          "execution_count": 10
        }
      ],
      "source": [
        "cat"
      ]
    },
    {
      "cell_type": "code",
      "execution_count": 11,
      "metadata": {
        "id": "imbQrb5gzAXM",
        "outputId": "2a7d6fd0-d318-4177-9e99-22f2e695c0cd",
        "colab": {
          "base_uri": "https://localhost:8080/"
        }
      },
      "outputs": [
        {
          "output_type": "execute_result",
          "data": {
            "text/plain": [
              "['age',\n",
              " 'fnlwgt',\n",
              " 'education-num',\n",
              " 'capital-gain',\n",
              " 'capital-loss',\n",
              " 'hours-per-week']"
            ]
          },
          "metadata": {},
          "execution_count": 11
        }
      ],
      "source": [
        "cont"
      ]
    },
    {
      "cell_type": "markdown",
      "metadata": {
        "id": "yOulGTUHzAXM"
      },
      "source": [
        "## Entrenando un modelo\n",
        "\n",
        "El proceso para entrenar un modelo es el mismo que hemos visto para los modelos de clasificación de imágenes y podemos usar toda la funcionalidad vista hasta ahora. Comenzamos definiendo un dataloader usando el método estático `from_df` de la clase `TabularDataLoaders`. Como siempre debemos definir un conjunto de validación, para ello debemos indicar los índices del dataset que tomaremos como conjunto de validación. En este caso vamos a tomar un 20% de los índices de manera aleatoria."
      ]
    },
    {
      "cell_type": "code",
      "execution_count": 12,
      "metadata": {
        "id": "Nmh2UNt5zAXN"
      },
      "outputs": [],
      "source": [
        "dlsTrain = TabularDataLoaders.from_df(df_train,'.',procs=procs,\n",
        "                                cat_names=cat,cont_names=cont,y_names='income',\n",
        "                                valid_idx=random.sample(range(0,len(df_train)),int(len(df_train)*0.2)),bs=64)"
      ]
    },
    {
      "cell_type": "markdown",
      "metadata": {
        "id": "grPO2IBvzAXN"
      },
      "source": [
        "Ahora definimos nuestro learner que va a ser una red neuronal, a la cual le tenemos que indicar el número de capas y neuronas con las que queremos trabajar. En este caso usaremos una red neuronal con dos capas ocultas la primera con 500 neuronas y la segunda con 250."
      ]
    },
    {
      "cell_type": "code",
      "execution_count": 13,
      "metadata": {
        "id": "44oVaPP3zAXN"
      },
      "outputs": [],
      "source": [
        "learn = tabular_learner(dlsTrain, layers=[500,250],metrics=[accuracy])"
      ]
    },
    {
      "cell_type": "markdown",
      "metadata": {
        "id": "kZfKC6LwzAXN"
      },
      "source": [
        "Podemos ver la estructura del modelo que acabamos de construir."
      ]
    },
    {
      "cell_type": "code",
      "execution_count": 14,
      "metadata": {
        "id": "sCwIBWfqzAXN",
        "outputId": "d0abe219-4ea0-4b57-b1de-c410589c7d0d",
        "colab": {
          "base_uri": "https://localhost:8080/"
        }
      },
      "outputs": [
        {
          "output_type": "execute_result",
          "data": {
            "text/plain": [
              "TabularModel(\n",
              "  (embeds): ModuleList(\n",
              "    (0): Embedding(10, 6)\n",
              "    (1): Embedding(17, 8)\n",
              "    (2): Embedding(8, 5)\n",
              "    (3): Embedding(16, 8)\n",
              "    (4): Embedding(7, 5)\n",
              "    (5): Embedding(6, 4)\n",
              "    (6): Embedding(3, 3)\n",
              "    (7): Embedding(43, 13)\n",
              "  )\n",
              "  (emb_drop): Dropout(p=0.0, inplace=False)\n",
              "  (bn_cont): BatchNorm1d(6, eps=1e-05, momentum=0.1, affine=True, track_running_stats=True)\n",
              "  (layers): Sequential(\n",
              "    (0): LinBnDrop(\n",
              "      (0): Linear(in_features=58, out_features=500, bias=False)\n",
              "      (1): ReLU(inplace=True)\n",
              "      (2): BatchNorm1d(500, eps=1e-05, momentum=0.1, affine=True, track_running_stats=True)\n",
              "    )\n",
              "    (1): LinBnDrop(\n",
              "      (0): Linear(in_features=500, out_features=250, bias=False)\n",
              "      (1): ReLU(inplace=True)\n",
              "      (2): BatchNorm1d(250, eps=1e-05, momentum=0.1, affine=True, track_running_stats=True)\n",
              "    )\n",
              "    (2): LinBnDrop(\n",
              "      (0): Linear(in_features=250, out_features=2, bias=True)\n",
              "    )\n",
              "  )\n",
              ")"
            ]
          },
          "metadata": {},
          "execution_count": 14
        }
      ],
      "source": [
        "learn.model"
      ]
    },
    {
      "cell_type": "markdown",
      "metadata": {
        "id": "39GfwHAqzAXN"
      },
      "source": [
        "Podemos ver que tenemos un `TabularModel` con una serie de embeddings. La siguiente celda nos sirve para ver qué es lo que hace un `TabularModel`."
      ]
    },
    {
      "cell_type": "code",
      "execution_count": 15,
      "metadata": {
        "id": "EXq0D6lgzAXN"
      },
      "outputs": [],
      "source": [
        "??TabularModel"
      ]
    },
    {
      "cell_type": "markdown",
      "metadata": {
        "id": "VGvwUtayzAXO"
      },
      "source": [
        "Como hemos dicho tenemos toda la batería de funciones que ya conocemos, así que vamos a buscar el learning rate más adecuado."
      ]
    },
    {
      "cell_type": "code",
      "execution_count": 16,
      "metadata": {
        "id": "mzY6LUxVzAXO",
        "scrolled": true,
        "outputId": "6d740b83-6d15-4c20-83f7-e6160c187cda",
        "colab": {
          "base_uri": "https://localhost:8080/",
          "height": 471
        }
      },
      "outputs": [
        {
          "output_type": "display_data",
          "data": {
            "text/plain": [
              "<IPython.core.display.HTML object>"
            ],
            "text/html": [
              "\n",
              "<style>\n",
              "    /* Turns off some styling */\n",
              "    progress {\n",
              "        /* gets rid of default border in Firefox and Opera. */\n",
              "        border: none;\n",
              "        /* Needs to be in here for Safari polyfill so background images work as expected. */\n",
              "        background-size: auto;\n",
              "    }\n",
              "    progress:not([value]), progress:not([value])::-webkit-progress-bar {\n",
              "        background: repeating-linear-gradient(45deg, #7e7e7e, #7e7e7e 10px, #5c5c5c 10px, #5c5c5c 20px);\n",
              "    }\n",
              "    .progress-bar-interrupted, .progress-bar-interrupted::-webkit-progress-bar {\n",
              "        background: #F44336;\n",
              "    }\n",
              "</style>\n"
            ]
          },
          "metadata": {}
        },
        {
          "output_type": "display_data",
          "data": {
            "text/plain": [
              "<IPython.core.display.HTML object>"
            ],
            "text/html": []
          },
          "metadata": {}
        },
        {
          "output_type": "execute_result",
          "data": {
            "text/plain": [
              "SuggestedLRs(valley=0.0012022644514217973)"
            ]
          },
          "metadata": {},
          "execution_count": 16
        },
        {
          "output_type": "display_data",
          "data": {
            "text/plain": [
              "<Figure size 640x480 with 1 Axes>"
            ],
            "image/png": "[encoded data removed]"
          },
          "metadata": {}
        }
      ],
      "source": [
        "learn.lr_find()"
      ]
    },
    {
      "cell_type": "markdown",
      "metadata": {
        "id": "Aoq5CHw8zAXO"
      },
      "source": [
        "Pasamos ahora a entrenar nuestro modelo."
      ]
    },
    {
      "cell_type": "code",
      "execution_count": 17,
      "metadata": {
        "id": "3EWaocy1zAXO",
        "outputId": "ae4119f6-aab8-414b-b395-dcd325a59b5d",
        "colab": {
          "base_uri": "https://localhost:8080/",
          "height": 363
        }
      },
      "outputs": [
        {
          "output_type": "display_data",
          "data": {
            "text/plain": [
              "<IPython.core.display.HTML object>"
            ],
            "text/html": [
              "\n",
              "<style>\n",
              "    /* Turns off some styling */\n",
              "    progress {\n",
              "        /* gets rid of default border in Firefox and Opera. */\n",
              "        border: none;\n",
              "        /* Needs to be in here for Safari polyfill so background images work as expected. */\n",
              "        background-size: auto;\n",
              "    }\n",
              "    progress:not([value]), progress:not([value])::-webkit-progress-bar {\n",
              "        background: repeating-linear-gradient(45deg, #7e7e7e, #7e7e7e 10px, #5c5c5c 10px, #5c5c5c 20px);\n",
              "    }\n",
              "    .progress-bar-interrupted, .progress-bar-interrupted::-webkit-progress-bar {\n",
              "        background: #F44336;\n",
              "    }\n",
              "</style>\n"
            ]
          },
          "metadata": {}
        },
        {
          "output_type": "display_data",
          "data": {
            "text/plain": [
              "<IPython.core.display.HTML object>"
            ],
            "text/html": [
              "<table border=\"1\" class=\"dataframe\">\n",
              "  <thead>\n",
              "    <tr style=\"text-align: left;\">\n",
              "      <th>epoch</th>\n",
              "      <th>train_loss</th>\n",
              "      <th>valid_loss</th>\n",
              "      <th>accuracy</th>\n",
              "      <th>time</th>\n",
              "    </tr>\n",
              "  </thead>\n",
              "  <tbody>\n",
              "    <tr>\n",
              "      <td>0</td>\n",
              "      <td>0.346055</td>\n",
              "      <td>0.330709</td>\n",
              "      <td>0.842905</td>\n",
              "      <td>00:05</td>\n",
              "    </tr>\n",
              "    <tr>\n",
              "      <td>1</td>\n",
              "      <td>0.332149</td>\n",
              "      <td>0.336717</td>\n",
              "      <td>0.840756</td>\n",
              "      <td>00:04</td>\n",
              "    </tr>\n",
              "    <tr>\n",
              "      <td>2</td>\n",
              "      <td>0.328316</td>\n",
              "      <td>0.326715</td>\n",
              "      <td>0.848280</td>\n",
              "      <td>00:06</td>\n",
              "    </tr>\n",
              "    <tr>\n",
              "      <td>3</td>\n",
              "      <td>0.328003</td>\n",
              "      <td>0.329219</td>\n",
              "      <td>0.843366</td>\n",
              "      <td>00:04</td>\n",
              "    </tr>\n",
              "    <tr>\n",
              "      <td>4</td>\n",
              "      <td>0.329107</td>\n",
              "      <td>0.317753</td>\n",
              "      <td>0.850276</td>\n",
              "      <td>00:04</td>\n",
              "    </tr>\n",
              "    <tr>\n",
              "      <td>5</td>\n",
              "      <td>0.318310</td>\n",
              "      <td>0.317794</td>\n",
              "      <td>0.848741</td>\n",
              "      <td>00:05</td>\n",
              "    </tr>\n",
              "    <tr>\n",
              "      <td>6</td>\n",
              "      <td>0.310675</td>\n",
              "      <td>0.322396</td>\n",
              "      <td>0.845670</td>\n",
              "      <td>00:04</td>\n",
              "    </tr>\n",
              "    <tr>\n",
              "      <td>7</td>\n",
              "      <td>0.313401</td>\n",
              "      <td>0.317227</td>\n",
              "      <td>0.846591</td>\n",
              "      <td>00:05</td>\n",
              "    </tr>\n",
              "    <tr>\n",
              "      <td>8</td>\n",
              "      <td>0.301559</td>\n",
              "      <td>0.319364</td>\n",
              "      <td>0.847973</td>\n",
              "      <td>00:04</td>\n",
              "    </tr>\n",
              "    <tr>\n",
              "      <td>9</td>\n",
              "      <td>0.311728</td>\n",
              "      <td>0.325293</td>\n",
              "      <td>0.847819</td>\n",
              "      <td>00:04</td>\n",
              "    </tr>\n",
              "  </tbody>\n",
              "</table>"
            ]
          },
          "metadata": {}
        }
      ],
      "source": [
        "learn.fit(10, 1e-3)"
      ]
    },
    {
      "cell_type": "markdown",
      "metadata": {
        "id": "uRGrtAAuzAXO"
      },
      "source": [
        "## Evaluación\n",
        "\n",
        "Hemos logrado una accuracy del 84.50 en el conjunto de validación, pero nos interesa ver el rendimiento de nuestro modelo en el conjunto de test. Para ello debemos primero combinar el conjunto de train y el conjunto de test para crear un dataloader en el que el conjunto de validación esté formado por todos los elementos del conjunto de test."
      ]
    },
    {
      "cell_type": "code",
      "execution_count": 18,
      "metadata": {
        "id": "2dqSink9zAXO"
      },
      "outputs": [],
      "source": [
        "dfAll = pd.concat([df_train,df_test])\n",
        "dlsTest = TabularDataLoaders.from_df(dfAll,'.',procs=procs,\n",
        "                                cat_names=cat,cont_names=cont,y_names='income',\n",
        "                                valid_idx=list(range(len(df_train)+1,len(dfAll))),bs=64)"
      ]
    },
    {
      "cell_type": "markdown",
      "metadata": {
        "id": "E0_GfzI4zAXP"
      },
      "source": [
        "Cambiamos ahora el dataloader del learner."
      ]
    },
    {
      "cell_type": "code",
      "execution_count": 19,
      "metadata": {
        "id": "DYGKTikozAXP"
      },
      "outputs": [],
      "source": [
        "learn.dls=dlsTest"
      ]
    },
    {
      "cell_type": "markdown",
      "metadata": {
        "id": "Sb3zlUHuzAXP"
      },
      "source": [
        "Y procedemos a obtener la accuracy de nuestro modelo en el conjunto de test."
      ]
    },
    {
      "cell_type": "code",
      "execution_count": 20,
      "metadata": {
        "id": "lUuj-bktzAXP",
        "outputId": "33f49ca5-7034-404d-dd83-fb8d9bbd919d",
        "colab": {
          "base_uri": "https://localhost:8080/",
          "height": 34
        }
      },
      "outputs": [
        {
          "output_type": "display_data",
          "data": {
            "text/plain": [
              "<IPython.core.display.HTML object>"
            ],
            "text/html": [
              "\n",
              "<style>\n",
              "    /* Turns off some styling */\n",
              "    progress {\n",
              "        /* gets rid of default border in Firefox and Opera. */\n",
              "        border: none;\n",
              "        /* Needs to be in here for Safari polyfill so background images work as expected. */\n",
              "        background-size: auto;\n",
              "    }\n",
              "    progress:not([value]), progress:not([value])::-webkit-progress-bar {\n",
              "        background: repeating-linear-gradient(45deg, #7e7e7e, #7e7e7e 10px, #5c5c5c 10px, #5c5c5c 20px);\n",
              "    }\n",
              "    .progress-bar-interrupted, .progress-bar-interrupted::-webkit-progress-bar {\n",
              "        background: #F44336;\n",
              "    }\n",
              "</style>\n"
            ]
          },
          "metadata": {}
        },
        {
          "output_type": "display_data",
          "data": {
            "text/plain": [
              "<IPython.core.display.HTML object>"
            ],
            "text/html": []
          },
          "metadata": {}
        },
        {
          "output_type": "execute_result",
          "data": {
            "text/plain": [
              "(#2) [0.3218347132205963,0.8511056303977966]"
            ]
          },
          "metadata": {},
          "execution_count": 20
        }
      ],
      "source": [
        "learn.validate()"
      ]
    },
    {
      "cell_type": "markdown",
      "metadata": {
        "id": "4txSKdw6zAXP"
      },
      "source": [
        "También podemos usar nuestro modelo para hacer predicciones concretas con un ejemplo usando la función `predict` esto nos devolverá tres elementos: los datos sobre los que se ha realizado la predicción, la clase, y las probabilidades."
      ]
    },
    {
      "cell_type": "code",
      "execution_count": 21,
      "metadata": {
        "id": "QnF4TjlFzAXP",
        "outputId": "13df6677-0b44-414d-e08f-52be06988c63",
        "colab": {
          "base_uri": "https://localhost:8080/",
          "height": 191
        }
      },
      "outputs": [
        {
          "output_type": "display_data",
          "data": {
            "text/plain": [
              "<IPython.core.display.HTML object>"
            ],
            "text/html": [
              "\n",
              "<style>\n",
              "    /* Turns off some styling */\n",
              "    progress {\n",
              "        /* gets rid of default border in Firefox and Opera. */\n",
              "        border: none;\n",
              "        /* Needs to be in here for Safari polyfill so background images work as expected. */\n",
              "        background-size: auto;\n",
              "    }\n",
              "    progress:not([value]), progress:not([value])::-webkit-progress-bar {\n",
              "        background: repeating-linear-gradient(45deg, #7e7e7e, #7e7e7e 10px, #5c5c5c 10px, #5c5c5c 20px);\n",
              "    }\n",
              "    .progress-bar-interrupted, .progress-bar-interrupted::-webkit-progress-bar {\n",
              "        background: #F44336;\n",
              "    }\n",
              "</style>\n"
            ]
          },
          "metadata": {}
        },
        {
          "output_type": "display_data",
          "data": {
            "text/plain": [
              "<IPython.core.display.HTML object>"
            ],
            "text/html": []
          },
          "metadata": {}
        },
        {
          "output_type": "execute_result",
          "data": {
            "text/plain": [
              "(   workclass  education  marital-status  occupation  relationship  race  sex  \\\n",
              " 0        5.0        2.0             5.0         8.0           4.0   3.0  2.0   \n",
              " \n",
              "    native-country       age    fnlwgt  education-num  capital-gain  \\\n",
              " 0            40.0 -0.995675  0.350768      -1.197414     -0.145918   \n",
              " \n",
              "    capital-loss  hours-per-week  income  \n",
              " 0     -0.216656       -0.035429     0.0  ,\n",
              " tensor(0),\n",
              " tensor([0.9927, 0.0073]))"
            ]
          },
          "metadata": {},
          "execution_count": 21
        }
      ],
      "source": [
        "learn.predict(df_test.iloc[0][:-1])"
      ]
    }
  ],
  "metadata": {
    "accelerator": "GPU",
    "colab": {
      "name": "Practica6Instrucciones.ipynb",
      "provenance": []
    },
    "kernelspec": {
      "display_name": "Python 3 (ipykernel)",
      "language": "python",
      "name": "python3"
    },
    "language_info": {
      "codemirror_mode": {
        "name": "ipython",
        "version": 3
      },
      "file_extension": ".py",
      "mimetype": "text/x-python",
      "name": "python",
      "nbconvert_exporter": "python",
      "pygments_lexer": "ipython3",
      "version": "3.8.10"
    }
  },
  "nbformat": 4,
  "nbformat_minor": 0
}